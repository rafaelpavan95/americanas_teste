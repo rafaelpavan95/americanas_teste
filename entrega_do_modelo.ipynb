{
 "cells": [
  {
   "cell_type": "markdown",
   "id": "9c74634f",
   "metadata": {},
   "source": [
    "# **Desafio Técnico - Entrega do Modelo**\n",
    "\n",
    "Americanas - Cientista de Dados Júnior | BEE\n",
    "\n",
    "Candidato: Rafael Pavan\n",
    "\n",
    "Linkedin: https://www.linkedin.com/in/engrafaelpavan/"
   ]
  },
  {
   "cell_type": "markdown",
   "id": "83b8685f",
   "metadata": {},
   "source": [
    "# Entrega do Modelo\n",
    "\n",
    "O modelo escolhido na etapa anterior foi o Random Forest, devido ao seu desempenho nas métricas consideradas.\n",
    "\n",
    "A entrega do modelo será feita via **Rest API** ou localmente. O Deploy foi feito na plataforma **Heroku**. \n",
    "\n"
   ]
  },
  {
   "cell_type": "code",
   "execution_count": 4,
   "id": "457bed83",
   "metadata": {},
   "outputs": [
    {
     "name": "stdout",
     "output_type": "stream",
     "text": [
      "Requirement already satisfied: requests in /usr/local/lib/python3.8/site-packages (2.28.1)\n",
      "Requirement already satisfied: urllib3<1.27,>=1.21.1 in /usr/local/lib/python3.8/site-packages (from requests) (1.26.11)\n",
      "Requirement already satisfied: certifi>=2017.4.17 in /usr/local/lib/python3.8/site-packages (from requests) (2022.6.15)\n",
      "Requirement already satisfied: charset-normalizer<3,>=2 in /usr/local/lib/python3.8/site-packages (from requests) (2.1.0)\n",
      "Requirement already satisfied: idna<4,>=2.5 in /usr/local/lib/python3.8/site-packages (from requests) (3.3)\n",
      "\u001b[33mWARNING: Running pip as the 'root' user can result in broken permissions and conflicting behaviour with the system package manager. It is recommended to use a virtual environment instead: https://pip.pypa.io/warnings/venv\u001b[0m\u001b[33m\n",
      "\u001b[0m"
     ]
    }
   ],
   "source": [
    "!pip install requests\n",
    "import pickle\n",
    "import json\n",
    "import requests\n",
    "import pandas as pd\n",
    "import numpy as np\n",
    "from app import aplicacao_remota, aplicacao_local\n",
    "import os"
   ]
  },
  {
   "cell_type": "markdown",
   "id": "221d8323",
   "metadata": {},
   "source": [
    "### Amostras Testes"
   ]
  },
  {
   "cell_type": "code",
   "execution_count": 5,
   "id": "a5ed942b",
   "metadata": {},
   "outputs": [],
   "source": [
    "amostra_1 = {\n",
    "            \n",
    "             'feature0': 1300.0,\n",
    "             'feature1': 26,\n",
    "             'feature2': 2757.6500000000005,\n",
    "             'feature3': 0.8800000000003338,\n",
    "             'feature4': -1318.95,\n",
    "             'feature5': 0.7848457350272233,\n",
    "             'feature6': 1653,\n",
    "             'feature7': 0.0067075150137964,\n",
    "             'feature8': 2.1256021890777355,\n",
    "             'feature9': 246440,\n",
    "             'feature10': 42129.62000000001,\n",
    "             'feature11': 0.0654563226537528,\n",
    "             'feature12': 51.894000000000005,\n",
    "             'feature13': 0.0151240169388989,\n",
    "             'feature14': 110.30600000000004,\n",
    "             'feature15': 25\n",
    "            \n",
    "            }\n",
    "\n",
    "\n",
    "\n",
    "amostra_2 = {\n",
    "                'feature0': 50.0,\n",
    "                'feature1': 1,\n",
    "                'feature2': 159.9,\n",
    "                'feature3': 10.509999999999998,\n",
    "                'feature4': -86.83999999999999,\n",
    "                'feature5': 0.4120915032679737,\n",
    "                'feature6': 153,\n",
    "                'feature7': 0.0032371360866621,\n",
    "                'feature8': 2.536082474226805,\n",
    "                'feature9': 47264,\n",
    "                'feature10': 1193.6,\n",
    "                'feature11': 0.1339644772117962,\n",
    "                'feature12': 63.04999999999998,\n",
    "                'feature13': 0.0065359477124183,\n",
    "                'feature14': 159.9,\n",
    "                'feature15': 1\n",
    "            }\n"
   ]
  },
  {
   "cell_type": "markdown",
   "id": "32d6fe46",
   "metadata": {},
   "source": [
    "_______________\n",
    "\n",
    "# 1. Como utilizar remotamente?\n",
    "\n",
    "### 1. Selecione uma amostra de dados que deseja prever e coloque-a na estrutura de dicionário.\n",
    "\n",
    "### 2. Chame a função aplicacao_remota() do arquivo app.py. Passe a amostra como argumento desta função.\n",
    "\n",
    "### 3. A função retornará outro dicionário contendo: {'predicted': valor previsto}\n",
    "\n"
   ]
  },
  {
   "cell_type": "markdown",
   "id": "a7d2e4dc",
   "metadata": {},
   "source": [
    "### Teste 1\n"
   ]
  },
  {
   "cell_type": "code",
   "execution_count": 6,
   "id": "0713c22d",
   "metadata": {},
   "outputs": [
    {
     "name": "stdout",
     "output_type": "stream",
     "text": [
      "{'predicted': 0}\n"
     ]
    }
   ],
   "source": [
    "resultado_1 = aplicacao_remota(amostra_1)\n",
    "\n",
    "print(resultado_1)"
   ]
  },
  {
   "cell_type": "markdown",
   "id": "a48faa71",
   "metadata": {},
   "source": [
    "### Teste 2"
   ]
  },
  {
   "cell_type": "code",
   "execution_count": 7,
   "id": "84b95b52",
   "metadata": {},
   "outputs": [
    {
     "name": "stdout",
     "output_type": "stream",
     "text": [
      "{'predicted': 1}\n"
     ]
    }
   ],
   "source": [
    "resultado_2 = aplicacao_remota(amostra_2)\n",
    "\n",
    "print(resultado_2)"
   ]
  },
  {
   "cell_type": "markdown",
   "id": "b5e31f75",
   "metadata": {},
   "source": [
    "### Caso queira consumir a API diretamente pelo seu computador, faça:"
   ]
  },
  {
   "cell_type": "code",
   "execution_count": 8,
   "id": "587520b8",
   "metadata": {},
   "outputs": [
    {
     "name": "stdout",
     "output_type": "stream",
     "text": [
      "{'predicted': 0}\n"
     ]
    }
   ],
   "source": [
    "url = 'https://rafaelpavan-americanas.herokuapp.com/predicao_americanas' # Link da API\n",
    "    \n",
    "amostra_json = json.dumps(amostra_1) # amostra que deseja prever\n",
    "\n",
    "response = requests.post(url, data=amostra_json) # request post\n",
    "\n",
    "print(response.json()) "
   ]
  },
  {
   "cell_type": "markdown",
   "id": "d4094809",
   "metadata": {},
   "source": [
    "______ \n",
    "\n",
    "# 2. Como utilizar localmente?\n",
    "\n",
    "### 1. Selecione um dataframe contendo as amostras que deseja classificar.\n",
    "\n",
    "### 2. Chame a função aplicacao_local() do arquivo app.py. Passe o dataframe como argumento desta função.\n",
    "\n",
    "### 3. A função retornará um vetor contendo as previsões."
   ]
  },
  {
   "cell_type": "code",
   "execution_count": 12,
   "id": "636024e4",
   "metadata": {},
   "outputs": [
    {
     "name": "stdout",
     "output_type": "stream",
     "text": [
      "[0 1 1 1 0 0 1 1 1 1 1 1 1 1 1 1 1 1 1 1 1 1 0 1 1 1 1 1 0 1 0 1 1 0 1 1 0\n",
      " 1 1 1 1 1 0 1 1 1 1 1 1 1 1 1 1 1 0 1 1 0 0 1 1 1 1 1 1 0 1 0 1 0]\n"
     ]
    }
   ],
   "source": [
    "X_test = pd.read_csv('dados_brutos/X_test_bruto.csv')\n",
    "\n",
    "solucao = aplicacao_local(X_test)\n",
    "\n",
    "print(solucao)"
   ]
  }
 ],
 "metadata": {
  "kernelspec": {
   "display_name": "Python 3 (ipykernel)",
   "language": "python",
   "name": "python3"
  },
  "language_info": {
   "codemirror_mode": {
    "name": "ipython",
    "version": 3
   },
   "file_extension": ".py",
   "mimetype": "text/x-python",
   "name": "python",
   "nbconvert_exporter": "python",
   "pygments_lexer": "ipython3",
   "version": "3.8.13"
  }
 },
 "nbformat": 4,
 "nbformat_minor": 5
}
